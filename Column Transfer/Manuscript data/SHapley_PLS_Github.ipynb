{
 "cells": [
  {
   "cell_type": "code",
   "execution_count": 1,
   "id": "bf8739e3",
   "metadata": {},
   "outputs": [],
   "source": [
    "from sys import stdout\n",
    " \n",
    "import numpy as np\n",
    "import pandas as pd\n",
    "import matplotlib.pyplot as plt\n",
    "import math\n",
    "\n",
    "import shap\n",
    "  \n",
    "from sklearn.cross_decomposition import PLSRegression\n",
    "from sklearn.model_selection import cross_val_predict\n",
    "from sklearn.metrics import mean_squared_error, r2_score\n",
    "from sklearn.preprocessing import scale \n",
    "\n",
    "from progressbar import ProgressBar"
   ]
  },
  {
   "cell_type": "code",
   "execution_count": null,
   "id": "e5e67cc4",
   "metadata": {},
   "outputs": [],
   "source": [
    "#import training datadet\n",
    "inter = pd.ExcelFile('training data_Github.xlsx')\n",
    "inter = pd.read_excel(inter,'Combined')\n",
    "#print(inter.info())\n",
    "comb = inter.dropna(axis=0)\n",
    "#print(comb.info())\n",
    "comb = comb[comb[\"tR (min)\"] != \"?\"]\n",
    "#preprocess\n",
    "for col in comb.columns[1:]:\n",
    "    if (comb[col] == 0).all():\n",
    "        comb = comb.drop([col], axis = 1)\n",
    "comb = comb.reset_index(drop=True)\n",
    "print(comb.info())"
   ]
  },
  {
   "cell_type": "code",
   "execution_count": 3,
   "id": "0ca2503c",
   "metadata": {},
   "outputs": [
    {
     "name": "stderr",
     "output_type": "stream",
     "text": [
      "Using 1790 background data samples could cause slower run times. Consider using shap.sample(data, K) or shap.kmeans(data, K) to summarize the background as K samples.\n"
     ]
    },
    {
     "name": "stdout",
     "output_type": "stream",
     "text": [
      "<class 'pandas.core.frame.DataFrame'>\n",
      "RangeIndex: 1790 entries, 0 to 1789\n",
      "Columns: 141 entries, 0 to 140\n",
      "dtypes: float64(141)\n",
      "memory usage: 1.9 MB\n",
      "None\n",
      "<class 'pandas.core.frame.DataFrame'>\n",
      "RangeIndex: 1790 entries, 0 to 1789\n",
      "Data columns (total 1 columns):\n",
      " #   Column  Non-Null Count  Dtype  \n",
      "---  ------  --------------  -----  \n",
      " 0   0       1790 non-null   float64\n",
      "dtypes: float64(1)\n",
      "memory usage: 14.1 KB\n",
      "None\n"
     ]
    },
    {
     "data": {
      "application/vnd.jupyter.widget-view+json": {
       "model_id": "87fde072a3f340e4aff376006c6fd019",
       "version_major": 2,
       "version_minor": 0
      },
      "text/plain": [
       "  0%|          | 0/1790 [00:00<?, ?it/s]"
      ]
     },
     "metadata": {},
     "output_type": "display_data"
    }
   ],
   "source": [
    "#PLS portion\n",
    "\n",
    "\n",
    "Y = {'tR (min)': [round(x,4) for x in comb['tR (min)']]}\n",
    "Y = pd.DataFrame(comb, columns = ['tR (min)'])\n",
    "#print(comb.info())\n",
    "X = comb.drop(['Project','Column','Compound','tR (min)'], axis=1)\n",
    "\n",
    "### Standardization of data ###\n",
    "from sklearn.preprocessing import StandardScaler\n",
    "PredictorScaler=StandardScaler()\n",
    "TargetVarScaler=StandardScaler()\n",
    "\n",
    "# Storing the fit object for later reference\n",
    "PredictorScalerFit=PredictorScaler.fit(X)\n",
    "TargetVarScalerFit=TargetVarScaler.fit(Y)\n",
    "\n",
    "# Generating the standardized values of X and y\n",
    "X=PredictorScalerFit.transform(X)\n",
    "Y=TargetVarScalerFit.transform(Y)\n",
    "\n",
    "X = pd.DataFrame(X)\n",
    "Y = pd.DataFrame(Y)\n",
    "print(X.info())\n",
    "print(Y.info())\n",
    "\n",
    "#PLS Regression\n",
    "n_comp = 5\n",
    "pls = PLSRegression(n_components=n_comp)\n",
    "# Cross-validation\n",
    "pls.fit(X, Y)\n",
    "\n",
    "# Define a wrapper function for PLS model predictions\n",
    "def pls_predict(X):\n",
    "    return pls.predict(X).flatten()  # Flatten the predictions if necessary\n",
    "\n",
    "X = np.asarray(X).astype('float32')\n",
    "#print(X)\n",
    "explainer = shap.KernelExplainer(pls_predict, X)\n",
    "shap_values = explainer.shap_values(X)\n",
    "\n",
    "import sys\n",
    "size = sys.getsizeof(shap_values)\n",
    "import csv\n",
    "with open(\"shapley_PLS_re.csv\", mode=\"w\", newline=\"\") as file:\n",
    "    writer = csv.writer(file)\n",
    "    \n",
    "    writer.writerows(shap_values)"
   ]
  },
  {
   "cell_type": "code",
   "execution_count": null,
   "id": "2870870e",
   "metadata": {},
   "outputs": [],
   "source": []
  }
 ],
 "metadata": {
  "kernelspec": {
   "display_name": "Python 3 (ipykernel)",
   "language": "python",
   "name": "python3"
  },
  "language_info": {
   "codemirror_mode": {
    "name": "ipython",
    "version": 3
   },
   "file_extension": ".py",
   "mimetype": "text/x-python",
   "name": "python",
   "nbconvert_exporter": "python",
   "pygments_lexer": "ipython3",
   "version": "3.10.8"
  }
 },
 "nbformat": 4,
 "nbformat_minor": 5
}
